{
 "cells": [
  {
   "cell_type": "markdown",
   "metadata": {},
   "source": [
    "# Initial Setup"
   ]
  },
  {
   "cell_type": "markdown",
   "metadata": {},
   "source": [
    "## Import section"
   ]
  },
  {
   "cell_type": "code",
   "execution_count": 123,
   "metadata": {},
   "outputs": [],
   "source": [
    "import pandas as pd\n",
    "from sentence_transformers import SentenceTransformer\n",
    "from sklearn.model_selection import train_test_split\n",
    "from sklearn import metrics\n",
    "from sklearn.metrics import adjusted_rand_score\n",
    "import matplotlib\n",
    "import matplotlib.pyplot as plt\n",
    "from sklearn.cluster import DBSCAN\n",
    "import numpy as np\n",
    "from sklearn.cluster import KMeans\n",
    "from sklearn.decomposition import PCA as sklearnPCA\n",
    "from sklearn.discriminant_analysis import LinearDiscriminantAnalysis as LDA\n",
    "from sklearn.cluster import MeanShift\n",
    "from scipy.cluster.hierarchy import dendrogram, linkage\n",
    "from sklearn.cluster import AgglomerativeClustering\n",
    "from sklearn.model_selection import cross_val_score\n",
    "import random"
   ]
  },
  {
   "cell_type": "markdown",
   "metadata": {},
   "source": [
    "## Reading input file"
   ]
  },
  {
   "cell_type": "code",
   "execution_count": 6,
   "metadata": {},
   "outputs": [
    {
     "data": {
      "text/html": [
       "<div>\n",
       "<style scoped>\n",
       "    .dataframe tbody tr th:only-of-type {\n",
       "        vertical-align: middle;\n",
       "    }\n",
       "\n",
       "    .dataframe tbody tr th {\n",
       "        vertical-align: top;\n",
       "    }\n",
       "\n",
       "    .dataframe thead th {\n",
       "        text-align: right;\n",
       "    }\n",
       "</style>\n",
       "<table border=\"1\" class=\"dataframe\">\n",
       "  <thead>\n",
       "    <tr style=\"text-align: right;\">\n",
       "      <th></th>\n",
       "      <th>Unnamed: 0</th>\n",
       "      <th>University</th>\n",
       "      <th>Abbreviation</th>\n",
       "      <th>Department</th>\n",
       "      <th>Course title</th>\n",
       "      <th>Unit</th>\n",
       "      <th>Professor</th>\n",
       "      <th>Objective</th>\n",
       "      <th>Description</th>\n",
       "      <th>Projects</th>\n",
       "      <th>University Homepage</th>\n",
       "      <th>Course Homepage</th>\n",
       "      <th>Objective stemmed</th>\n",
       "      <th>Project stemmed</th>\n",
       "      <th>Description stemmed</th>\n",
       "      <th>Objective lemmatized</th>\n",
       "      <th>Project lemmatized</th>\n",
       "      <th>Description lemmatized</th>\n",
       "    </tr>\n",
       "  </thead>\n",
       "  <tbody>\n",
       "    <tr>\n",
       "      <th>0</th>\n",
       "      <td>0</td>\n",
       "      <td>University of Newcastle</td>\n",
       "      <td>NU</td>\n",
       "      <td>Architecture, Planning and Landscape</td>\n",
       "      <td>Planning Contexts</td>\n",
       "      <td>20</td>\n",
       "      <td>Dr Alexander Wilson</td>\n",
       "      <td>This module introduces the hybridity of the pl...</td>\n",
       "      <td>Students will be introduced to key ideas throu...</td>\n",
       "      <td>The first assignment enables the students to r...</td>\n",
       "      <td>https://www.ncl.ac.uk/</td>\n",
       "      <td>http://www.ncl.ac.uk/mobility/experience-newca...</td>\n",
       "      <td>['thi', 'modul', 'introduc', 'hybrid', 'plan',...</td>\n",
       "      <td>['the', 'first', 'assign', 'enabl', 'student',...</td>\n",
       "      <td>['student', 'introduc', 'key', 'idea', 'a', 'l...</td>\n",
       "      <td>['This', 'module', 'introduces', 'hybridity', ...</td>\n",
       "      <td>['The', 'first', 'assignment', 'enables', 'stu...</td>\n",
       "      <td>['Students', 'introduced', 'key', 'idea', 'a',...</td>\n",
       "    </tr>\n",
       "    <tr>\n",
       "      <th>1</th>\n",
       "      <td>1</td>\n",
       "      <td>University of Newcastle</td>\n",
       "      <td>NU</td>\n",
       "      <td>Architecture, Planning and Landscape</td>\n",
       "      <td>Participation: Theories &amp; Practice</td>\n",
       "      <td>20</td>\n",
       "      <td>Mrs Armelle Tardiveau</td>\n",
       "      <td>This module aims to get you to:\\r\\na.        D...</td>\n",
       "      <td>Initial lectures contextualise the theory that...</td>\n",
       "      <td>Assignment One\\r\\nGroup presentation showcasin...</td>\n",
       "      <td>https://www.ncl.ac.uk/</td>\n",
       "      <td>http://www.ncl.ac.uk/mobility/experience-newca...</td>\n",
       "      <td>['thi', 'modul', 'aim', 'get', 'develop', 'cri...</td>\n",
       "      <td>['assign', 'one', 'group', 'present', 'showcas...</td>\n",
       "      <td>['initi', 'lectur', 'contextualis', 'theori', ...</td>\n",
       "      <td>['This', 'module', 'aim', 'get', 'Develop', 'c...</td>\n",
       "      <td>['Assignment', 'One', 'Group', 'presentation',...</td>\n",
       "      <td>['Initial', 'lecture', 'contextualise', 'theor...</td>\n",
       "    </tr>\n",
       "    <tr>\n",
       "      <th>2</th>\n",
       "      <td>2</td>\n",
       "      <td>University of Newcastle</td>\n",
       "      <td>NU</td>\n",
       "      <td>Architecture, Planning and Landscape</td>\n",
       "      <td>Alternative Practice: Co-producing Space</td>\n",
       "      <td>20</td>\n",
       "      <td>Mr Daniel Mallo</td>\n",
       "      <td>Alternative Practice: Co-producing Space explo...</td>\n",
       "      <td>Initial lecture introduces the module and will...</td>\n",
       "      <td>The co-production project addresses a real iss...</td>\n",
       "      <td>https://www.ncl.ac.uk/</td>\n",
       "      <td>http://www.ncl.ac.uk/mobility/experience-newca...</td>\n",
       "      <td>['altern', 'practic', 'co', 'produc', 'space',...</td>\n",
       "      <td>['the', 'co', 'product', 'project', 'address',...</td>\n",
       "      <td>['initi', 'lectur', 'introduc', 'modul', 'foll...</td>\n",
       "      <td>['Alternative', 'Practice', 'Co', 'producing',...</td>\n",
       "      <td>['The', 'co', 'production', 'project', 'addres...</td>\n",
       "      <td>['Initial', 'lecture', 'introduces', 'module',...</td>\n",
       "    </tr>\n",
       "    <tr>\n",
       "      <th>3</th>\n",
       "      <td>3</td>\n",
       "      <td>University of Newcastle</td>\n",
       "      <td>NU</td>\n",
       "      <td>Architecture, Planning and Landscape</td>\n",
       "      <td>Introduction to Architecture</td>\n",
       "      <td>20</td>\n",
       "      <td>Professor Katie Lloyd Thomas</td>\n",
       "      <td>To enable students to:\\n\\r\\nDevelop an awarene...</td>\n",
       "      <td>In semester 1 a mixture of scheduled and struc...</td>\n",
       "      <td>The poster – or pamphlet explaining a historic...</td>\n",
       "      <td>https://www.ncl.ac.uk/</td>\n",
       "      <td>http://www.ncl.ac.uk/mobility/experience-newca...</td>\n",
       "      <td>['to', 'enabl', 'student', 'develop', 'awar', ...</td>\n",
       "      <td>['the', 'poster', 'pamphlet', 'explain', 'hist...</td>\n",
       "      <td>['in', 'semest', '1', 'mixtur', 'schedul', 'st...</td>\n",
       "      <td>['To', 'enable', 'student', 'Develop', 'awaren...</td>\n",
       "      <td>['The', 'poster', 'pamphlet', 'explaining', 'h...</td>\n",
       "      <td>['In', 'semester', '1', 'mixture', 'scheduled'...</td>\n",
       "    </tr>\n",
       "    <tr>\n",
       "      <th>4</th>\n",
       "      <td>4</td>\n",
       "      <td>University of Newcastle</td>\n",
       "      <td>NU</td>\n",
       "      <td>Architecture, Planning and Landscape</td>\n",
       "      <td>Architectural Representation 2</td>\n",
       "      <td>10</td>\n",
       "      <td>Dr Carlos Calderon</td>\n",
       "      <td>The aims of the module are to enable students ...</td>\n",
       "      <td>The topics are explored through lectures, pres...</td>\n",
       "      <td>A structured approach to 2D CAD drawings, 3D c...</td>\n",
       "      <td>https://www.ncl.ac.uk/</td>\n",
       "      <td>http://www.ncl.ac.uk/mobility/experience-newca...</td>\n",
       "      <td>['the', 'aim', 'modul', 'enabl', 'student', 'p...</td>\n",
       "      <td>['a', 'structur', 'approach', '2d', 'cad', 'dr...</td>\n",
       "      <td>['the', 'topic', 'explor', 'lectur', 'present'...</td>\n",
       "      <td>['The', 'aim', 'module', 'enable', 'student', ...</td>\n",
       "      <td>['A', 'structured', 'approach', '2D', 'CAD', '...</td>\n",
       "      <td>['The', 'topic', 'explored', 'lecture', 'prese...</td>\n",
       "    </tr>\n",
       "    <tr>\n",
       "      <th>...</th>\n",
       "      <td>...</td>\n",
       "      <td>...</td>\n",
       "      <td>...</td>\n",
       "      <td>...</td>\n",
       "      <td>...</td>\n",
       "      <td>...</td>\n",
       "      <td>...</td>\n",
       "      <td>...</td>\n",
       "      <td>...</td>\n",
       "      <td>...</td>\n",
       "      <td>...</td>\n",
       "      <td>...</td>\n",
       "      <td>...</td>\n",
       "      <td>...</td>\n",
       "      <td>...</td>\n",
       "      <td>...</td>\n",
       "      <td>...</td>\n",
       "      <td>...</td>\n",
       "    </tr>\n",
       "    <tr>\n",
       "      <th>1318</th>\n",
       "      <td>1318</td>\n",
       "      <td>University of Newcastle</td>\n",
       "      <td>NU</td>\n",
       "      <td>Natural and Environmental Sciences</td>\n",
       "      <td>Ecology of Marine Systems</td>\n",
       "      <td>20</td>\n",
       "      <td>Dr Jane Delany</td>\n",
       "      <td>To build on the fundamentals of the functionin...</td>\n",
       "      <td>Lectures and supporting materials are designed...</td>\n",
       "      <td>The two 1000-word (or equivalent) pieces of fo...</td>\n",
       "      <td>https://www.ncl.ac.uk/</td>\n",
       "      <td>http://www.ncl.ac.uk/mobility/experience-newca...</td>\n",
       "      <td>['to', 'build', 'fundament', 'function', 'key'...</td>\n",
       "      <td>['the', 'two', '1000', 'word', 'equival', 'pie...</td>\n",
       "      <td>['lectur', 'support', 'materi', 'design', 'giv...</td>\n",
       "      <td>['To', 'build', 'fundamental', 'functioning', ...</td>\n",
       "      <td>['The', 'two', '1000', 'word', 'equivalent', '...</td>\n",
       "      <td>['Lectures', 'supporting', 'material', 'design...</td>\n",
       "    </tr>\n",
       "    <tr>\n",
       "      <th>1319</th>\n",
       "      <td>1319</td>\n",
       "      <td>University of Newcastle</td>\n",
       "      <td>NU</td>\n",
       "      <td>Natural and Environmental Sciences</td>\n",
       "      <td>Applied Marine Biology</td>\n",
       "      <td>20</td>\n",
       "      <td>Dr Gary Caldwell</td>\n",
       "      <td>This module aims to make students aware of a r...</td>\n",
       "      <td>The lectures are designed to provide students ...</td>\n",
       "      <td>The module offers the students the choice of o...</td>\n",
       "      <td>https://www.ncl.ac.uk/</td>\n",
       "      <td>http://www.ncl.ac.uk/mobility/experience-newca...</td>\n",
       "      <td>['thi', 'modul', 'aim', 'make', 'student', 'aw...</td>\n",
       "      <td>['the', 'modul', 'offer', 'student', 'choic', ...</td>\n",
       "      <td>['the', 'lectur', 'design', 'provid', 'student...</td>\n",
       "      <td>['This', 'module', 'aim', 'make', 'student', '...</td>\n",
       "      <td>['The', 'module', 'offer', 'student', 'choice'...</td>\n",
       "      <td>['The', 'lecture', 'designed', 'provide', 'stu...</td>\n",
       "    </tr>\n",
       "    <tr>\n",
       "      <th>1320</th>\n",
       "      <td>1320</td>\n",
       "      <td>University of Newcastle</td>\n",
       "      <td>NU</td>\n",
       "      <td>Natural and Environmental Sciences</td>\n",
       "      <td>Research and Employability Skills</td>\n",
       "      <td>20</td>\n",
       "      <td>Dr Heather Sugden</td>\n",
       "      <td>To introduce and practice the development of h...</td>\n",
       "      <td>Lectures and practicals are designed to provid...</td>\n",
       "      <td>Students will be expected to undertake formati...</td>\n",
       "      <td>https://www.ncl.ac.uk/</td>\n",
       "      <td>http://www.ncl.ac.uk/mobility/experience-newca...</td>\n",
       "      <td>['to', 'introduc', 'practic', 'develop', 'hypo...</td>\n",
       "      <td>['student', 'expect', 'undertak', 'form', 'ass...</td>\n",
       "      <td>['lectur', 'practic', 'design', 'provid', 'tra...</td>\n",
       "      <td>['To', 'introduce', 'practice', 'development',...</td>\n",
       "      <td>['Students', 'expected', 'undertake', 'formati...</td>\n",
       "      <td>['Lectures', 'practicals', 'designed', 'provid...</td>\n",
       "    </tr>\n",
       "    <tr>\n",
       "      <th>1321</th>\n",
       "      <td>1321</td>\n",
       "      <td>University of Newcastle</td>\n",
       "      <td>NU</td>\n",
       "      <td>Natural and Environmental Sciences</td>\n",
       "      <td>Marine Practical Skills II</td>\n",
       "      <td>20</td>\n",
       "      <td>Dr Guenther Uher</td>\n",
       "      <td>To build on the fundamental laboratory, boat w...</td>\n",
       "      <td>Lectures, laboratory practicals, fieldwork and...</td>\n",
       "      <td>The formative laboratory, field and research v...</td>\n",
       "      <td>https://www.ncl.ac.uk/</td>\n",
       "      <td>http://www.ncl.ac.uk/mobility/experience-newca...</td>\n",
       "      <td>['to', 'build', 'fundament', 'laboratori', 'bo...</td>\n",
       "      <td>['the', 'form', 'laboratori', 'field', 'resear...</td>\n",
       "      <td>['lectur', 'laboratori', 'practic', 'fieldwork...</td>\n",
       "      <td>['To', 'build', 'fundamental', 'laboratory', '...</td>\n",
       "      <td>['The', 'formative', 'laboratory', 'field', 'r...</td>\n",
       "      <td>['Lectures', 'laboratory', 'practicals', 'fiel...</td>\n",
       "    </tr>\n",
       "    <tr>\n",
       "      <th>1322</th>\n",
       "      <td>1322</td>\n",
       "      <td>University of Newcastle</td>\n",
       "      <td>NU</td>\n",
       "      <td>Natural and Environmental Sciences</td>\n",
       "      <td>Deep-Sea and Polar Biology</td>\n",
       "      <td>20</td>\n",
       "      <td>Dr Benjamin Wigham</td>\n",
       "      <td>To appreciate the diverse range of deep-sea an...</td>\n",
       "      <td>Lectures and associated supplementary material...</td>\n",
       "      <td>The 2 x 1000 word (or equivalent) pieces of fo...</td>\n",
       "      <td>https://www.ncl.ac.uk/</td>\n",
       "      <td>http://www.ncl.ac.uk/mobility/experience-newca...</td>\n",
       "      <td>['to', 'appreci', 'divers', 'rang', 'deep', 's...</td>\n",
       "      <td>['the', '2', 'x', '1000', 'word', 'equival', '...</td>\n",
       "      <td>['lectur', 'associ', 'supplementari', 'materi'...</td>\n",
       "      <td>['To', 'appreciate', 'diverse', 'range', 'deep...</td>\n",
       "      <td>['The', '2', 'x', '1000', 'word', 'equivalent'...</td>\n",
       "      <td>['Lectures', 'associated', 'supplementary', 'm...</td>\n",
       "    </tr>\n",
       "  </tbody>\n",
       "</table>\n",
       "<p>1323 rows × 18 columns</p>\n",
       "</div>"
      ],
      "text/plain": [
       "      Unnamed: 0               University Abbreviation  \\\n",
       "0              0  University of Newcastle           NU   \n",
       "1              1  University of Newcastle           NU   \n",
       "2              2  University of Newcastle           NU   \n",
       "3              3  University of Newcastle           NU   \n",
       "4              4  University of Newcastle           NU   \n",
       "...          ...                      ...          ...   \n",
       "1318        1318  University of Newcastle           NU   \n",
       "1319        1319  University of Newcastle           NU   \n",
       "1320        1320  University of Newcastle           NU   \n",
       "1321        1321  University of Newcastle           NU   \n",
       "1322        1322  University of Newcastle           NU   \n",
       "\n",
       "                                Department  \\\n",
       "0     Architecture, Planning and Landscape   \n",
       "1     Architecture, Planning and Landscape   \n",
       "2     Architecture, Planning and Landscape   \n",
       "3     Architecture, Planning and Landscape   \n",
       "4     Architecture, Planning and Landscape   \n",
       "...                                    ...   \n",
       "1318    Natural and Environmental Sciences   \n",
       "1319    Natural and Environmental Sciences   \n",
       "1320    Natural and Environmental Sciences   \n",
       "1321    Natural and Environmental Sciences   \n",
       "1322    Natural and Environmental Sciences   \n",
       "\n",
       "                                  Course title  Unit  \\\n",
       "0                            Planning Contexts    20   \n",
       "1           Participation: Theories & Practice    20   \n",
       "2     Alternative Practice: Co-producing Space    20   \n",
       "3                 Introduction to Architecture    20   \n",
       "4               Architectural Representation 2    10   \n",
       "...                                        ...   ...   \n",
       "1318                 Ecology of Marine Systems    20   \n",
       "1319                    Applied Marine Biology    20   \n",
       "1320         Research and Employability Skills    20   \n",
       "1321                Marine Practical Skills II    20   \n",
       "1322                Deep-Sea and Polar Biology    20   \n",
       "\n",
       "                         Professor  \\\n",
       "0              Dr Alexander Wilson   \n",
       "1            Mrs Armelle Tardiveau   \n",
       "2                  Mr Daniel Mallo   \n",
       "3     Professor Katie Lloyd Thomas   \n",
       "4               Dr Carlos Calderon   \n",
       "...                            ...   \n",
       "1318                Dr Jane Delany   \n",
       "1319              Dr Gary Caldwell   \n",
       "1320             Dr Heather Sugden   \n",
       "1321              Dr Guenther Uher   \n",
       "1322            Dr Benjamin Wigham   \n",
       "\n",
       "                                              Objective  \\\n",
       "0     This module introduces the hybridity of the pl...   \n",
       "1     This module aims to get you to:\\r\\na.        D...   \n",
       "2     Alternative Practice: Co-producing Space explo...   \n",
       "3     To enable students to:\\n\\r\\nDevelop an awarene...   \n",
       "4     The aims of the module are to enable students ...   \n",
       "...                                                 ...   \n",
       "1318  To build on the fundamentals of the functionin...   \n",
       "1319  This module aims to make students aware of a r...   \n",
       "1320  To introduce and practice the development of h...   \n",
       "1321  To build on the fundamental laboratory, boat w...   \n",
       "1322  To appreciate the diverse range of deep-sea an...   \n",
       "\n",
       "                                            Description  \\\n",
       "0     Students will be introduced to key ideas throu...   \n",
       "1     Initial lectures contextualise the theory that...   \n",
       "2     Initial lecture introduces the module and will...   \n",
       "3     In semester 1 a mixture of scheduled and struc...   \n",
       "4     The topics are explored through lectures, pres...   \n",
       "...                                                 ...   \n",
       "1318  Lectures and supporting materials are designed...   \n",
       "1319  The lectures are designed to provide students ...   \n",
       "1320  Lectures and practicals are designed to provid...   \n",
       "1321  Lectures, laboratory practicals, fieldwork and...   \n",
       "1322  Lectures and associated supplementary material...   \n",
       "\n",
       "                                               Projects  \\\n",
       "0     The first assignment enables the students to r...   \n",
       "1     Assignment One\\r\\nGroup presentation showcasin...   \n",
       "2     The co-production project addresses a real iss...   \n",
       "3     The poster – or pamphlet explaining a historic...   \n",
       "4     A structured approach to 2D CAD drawings, 3D c...   \n",
       "...                                                 ...   \n",
       "1318  The two 1000-word (or equivalent) pieces of fo...   \n",
       "1319  The module offers the students the choice of o...   \n",
       "1320  Students will be expected to undertake formati...   \n",
       "1321  The formative laboratory, field and research v...   \n",
       "1322  The 2 x 1000 word (or equivalent) pieces of fo...   \n",
       "\n",
       "         University Homepage  \\\n",
       "0     https://www.ncl.ac.uk/   \n",
       "1     https://www.ncl.ac.uk/   \n",
       "2     https://www.ncl.ac.uk/   \n",
       "3     https://www.ncl.ac.uk/   \n",
       "4     https://www.ncl.ac.uk/   \n",
       "...                      ...   \n",
       "1318  https://www.ncl.ac.uk/   \n",
       "1319  https://www.ncl.ac.uk/   \n",
       "1320  https://www.ncl.ac.uk/   \n",
       "1321  https://www.ncl.ac.uk/   \n",
       "1322  https://www.ncl.ac.uk/   \n",
       "\n",
       "                                        Course Homepage  \\\n",
       "0     http://www.ncl.ac.uk/mobility/experience-newca...   \n",
       "1     http://www.ncl.ac.uk/mobility/experience-newca...   \n",
       "2     http://www.ncl.ac.uk/mobility/experience-newca...   \n",
       "3     http://www.ncl.ac.uk/mobility/experience-newca...   \n",
       "4     http://www.ncl.ac.uk/mobility/experience-newca...   \n",
       "...                                                 ...   \n",
       "1318  http://www.ncl.ac.uk/mobility/experience-newca...   \n",
       "1319  http://www.ncl.ac.uk/mobility/experience-newca...   \n",
       "1320  http://www.ncl.ac.uk/mobility/experience-newca...   \n",
       "1321  http://www.ncl.ac.uk/mobility/experience-newca...   \n",
       "1322  http://www.ncl.ac.uk/mobility/experience-newca...   \n",
       "\n",
       "                                      Objective stemmed  \\\n",
       "0     ['thi', 'modul', 'introduc', 'hybrid', 'plan',...   \n",
       "1     ['thi', 'modul', 'aim', 'get', 'develop', 'cri...   \n",
       "2     ['altern', 'practic', 'co', 'produc', 'space',...   \n",
       "3     ['to', 'enabl', 'student', 'develop', 'awar', ...   \n",
       "4     ['the', 'aim', 'modul', 'enabl', 'student', 'p...   \n",
       "...                                                 ...   \n",
       "1318  ['to', 'build', 'fundament', 'function', 'key'...   \n",
       "1319  ['thi', 'modul', 'aim', 'make', 'student', 'aw...   \n",
       "1320  ['to', 'introduc', 'practic', 'develop', 'hypo...   \n",
       "1321  ['to', 'build', 'fundament', 'laboratori', 'bo...   \n",
       "1322  ['to', 'appreci', 'divers', 'rang', 'deep', 's...   \n",
       "\n",
       "                                        Project stemmed  \\\n",
       "0     ['the', 'first', 'assign', 'enabl', 'student',...   \n",
       "1     ['assign', 'one', 'group', 'present', 'showcas...   \n",
       "2     ['the', 'co', 'product', 'project', 'address',...   \n",
       "3     ['the', 'poster', 'pamphlet', 'explain', 'hist...   \n",
       "4     ['a', 'structur', 'approach', '2d', 'cad', 'dr...   \n",
       "...                                                 ...   \n",
       "1318  ['the', 'two', '1000', 'word', 'equival', 'pie...   \n",
       "1319  ['the', 'modul', 'offer', 'student', 'choic', ...   \n",
       "1320  ['student', 'expect', 'undertak', 'form', 'ass...   \n",
       "1321  ['the', 'form', 'laboratori', 'field', 'resear...   \n",
       "1322  ['the', '2', 'x', '1000', 'word', 'equival', '...   \n",
       "\n",
       "                                    Description stemmed  \\\n",
       "0     ['student', 'introduc', 'key', 'idea', 'a', 'l...   \n",
       "1     ['initi', 'lectur', 'contextualis', 'theori', ...   \n",
       "2     ['initi', 'lectur', 'introduc', 'modul', 'foll...   \n",
       "3     ['in', 'semest', '1', 'mixtur', 'schedul', 'st...   \n",
       "4     ['the', 'topic', 'explor', 'lectur', 'present'...   \n",
       "...                                                 ...   \n",
       "1318  ['lectur', 'support', 'materi', 'design', 'giv...   \n",
       "1319  ['the', 'lectur', 'design', 'provid', 'student...   \n",
       "1320  ['lectur', 'practic', 'design', 'provid', 'tra...   \n",
       "1321  ['lectur', 'laboratori', 'practic', 'fieldwork...   \n",
       "1322  ['lectur', 'associ', 'supplementari', 'materi'...   \n",
       "\n",
       "                                   Objective lemmatized  \\\n",
       "0     ['This', 'module', 'introduces', 'hybridity', ...   \n",
       "1     ['This', 'module', 'aim', 'get', 'Develop', 'c...   \n",
       "2     ['Alternative', 'Practice', 'Co', 'producing',...   \n",
       "3     ['To', 'enable', 'student', 'Develop', 'awaren...   \n",
       "4     ['The', 'aim', 'module', 'enable', 'student', ...   \n",
       "...                                                 ...   \n",
       "1318  ['To', 'build', 'fundamental', 'functioning', ...   \n",
       "1319  ['This', 'module', 'aim', 'make', 'student', '...   \n",
       "1320  ['To', 'introduce', 'practice', 'development',...   \n",
       "1321  ['To', 'build', 'fundamental', 'laboratory', '...   \n",
       "1322  ['To', 'appreciate', 'diverse', 'range', 'deep...   \n",
       "\n",
       "                                     Project lemmatized  \\\n",
       "0     ['The', 'first', 'assignment', 'enables', 'stu...   \n",
       "1     ['Assignment', 'One', 'Group', 'presentation',...   \n",
       "2     ['The', 'co', 'production', 'project', 'addres...   \n",
       "3     ['The', 'poster', 'pamphlet', 'explaining', 'h...   \n",
       "4     ['A', 'structured', 'approach', '2D', 'CAD', '...   \n",
       "...                                                 ...   \n",
       "1318  ['The', 'two', '1000', 'word', 'equivalent', '...   \n",
       "1319  ['The', 'module', 'offer', 'student', 'choice'...   \n",
       "1320  ['Students', 'expected', 'undertake', 'formati...   \n",
       "1321  ['The', 'formative', 'laboratory', 'field', 'r...   \n",
       "1322  ['The', '2', 'x', '1000', 'word', 'equivalent'...   \n",
       "\n",
       "                                 Description lemmatized  \n",
       "0     ['Students', 'introduced', 'key', 'idea', 'a',...  \n",
       "1     ['Initial', 'lecture', 'contextualise', 'theor...  \n",
       "2     ['Initial', 'lecture', 'introduces', 'module',...  \n",
       "3     ['In', 'semester', '1', 'mixture', 'scheduled'...  \n",
       "4     ['The', 'topic', 'explored', 'lecture', 'prese...  \n",
       "...                                                 ...  \n",
       "1318  ['Lectures', 'supporting', 'material', 'design...  \n",
       "1319  ['The', 'lecture', 'designed', 'provide', 'stu...  \n",
       "1320  ['Lectures', 'practicals', 'designed', 'provid...  \n",
       "1321  ['Lectures', 'laboratory', 'practicals', 'fiel...  \n",
       "1322  ['Lectures', 'associated', 'supplementary', 'm...  \n",
       "\n",
       "[1323 rows x 18 columns]"
      ]
     },
     "execution_count": 6,
     "metadata": {},
     "output_type": "execute_result"
    }
   ],
   "source": [
    "df = pd.read_csv('..\\\\Phase 1\\\\\\PreprocessedDataset.csv')\n",
    "df"
   ]
  },
  {
   "cell_type": "code",
   "execution_count": 7,
   "metadata": {},
   "outputs": [
    {
     "data": {
      "text/html": [
       "<div>\n",
       "<style scoped>\n",
       "    .dataframe tbody tr th:only-of-type {\n",
       "        vertical-align: middle;\n",
       "    }\n",
       "\n",
       "    .dataframe tbody tr th {\n",
       "        vertical-align: top;\n",
       "    }\n",
       "\n",
       "    .dataframe thead th {\n",
       "        text-align: right;\n",
       "    }\n",
       "</style>\n",
       "<table border=\"1\" class=\"dataframe\">\n",
       "  <thead>\n",
       "    <tr style=\"text-align: right;\">\n",
       "      <th></th>\n",
       "      <th>University</th>\n",
       "      <th>Abbreviation</th>\n",
       "      <th>Department</th>\n",
       "      <th>Course title</th>\n",
       "      <th>Unit</th>\n",
       "      <th>Professor</th>\n",
       "      <th>Objective</th>\n",
       "      <th>Description</th>\n",
       "      <th>Projects</th>\n",
       "      <th>University Homepage</th>\n",
       "      <th>Course Homepage</th>\n",
       "      <th>Objective stemmed</th>\n",
       "      <th>Project stemmed</th>\n",
       "      <th>Description stemmed</th>\n",
       "      <th>Objective lemmatized</th>\n",
       "      <th>Project lemmatized</th>\n",
       "      <th>Description lemmatized</th>\n",
       "    </tr>\n",
       "  </thead>\n",
       "  <tbody>\n",
       "    <tr>\n",
       "      <th>0</th>\n",
       "      <td>University of Newcastle</td>\n",
       "      <td>NU</td>\n",
       "      <td>Architecture, Planning and Landscape</td>\n",
       "      <td>Planning Contexts</td>\n",
       "      <td>20</td>\n",
       "      <td>Dr Alexander Wilson</td>\n",
       "      <td>This module introduces the hybridity of the pl...</td>\n",
       "      <td>Students will be introduced to key ideas throu...</td>\n",
       "      <td>The first assignment enables the students to r...</td>\n",
       "      <td>https://www.ncl.ac.uk/</td>\n",
       "      <td>http://www.ncl.ac.uk/mobility/experience-newca...</td>\n",
       "      <td>['thi', 'modul', 'introduc', 'hybrid', 'plan',...</td>\n",
       "      <td>['the', 'first', 'assign', 'enabl', 'student',...</td>\n",
       "      <td>['student', 'introduc', 'key', 'idea', 'a', 'l...</td>\n",
       "      <td>['This', 'module', 'introduces', 'hybridity', ...</td>\n",
       "      <td>['The', 'first', 'assignment', 'enables', 'stu...</td>\n",
       "      <td>['Students', 'introduced', 'key', 'idea', 'a',...</td>\n",
       "    </tr>\n",
       "    <tr>\n",
       "      <th>1</th>\n",
       "      <td>University of Newcastle</td>\n",
       "      <td>NU</td>\n",
       "      <td>Architecture, Planning and Landscape</td>\n",
       "      <td>Participation: Theories &amp; Practice</td>\n",
       "      <td>20</td>\n",
       "      <td>Mrs Armelle Tardiveau</td>\n",
       "      <td>This module aims to get you to:\\r\\na.        D...</td>\n",
       "      <td>Initial lectures contextualise the theory that...</td>\n",
       "      <td>Assignment One\\r\\nGroup presentation showcasin...</td>\n",
       "      <td>https://www.ncl.ac.uk/</td>\n",
       "      <td>http://www.ncl.ac.uk/mobility/experience-newca...</td>\n",
       "      <td>['thi', 'modul', 'aim', 'get', 'develop', 'cri...</td>\n",
       "      <td>['assign', 'one', 'group', 'present', 'showcas...</td>\n",
       "      <td>['initi', 'lectur', 'contextualis', 'theori', ...</td>\n",
       "      <td>['This', 'module', 'aim', 'get', 'Develop', 'c...</td>\n",
       "      <td>['Assignment', 'One', 'Group', 'presentation',...</td>\n",
       "      <td>['Initial', 'lecture', 'contextualise', 'theor...</td>\n",
       "    </tr>\n",
       "    <tr>\n",
       "      <th>2</th>\n",
       "      <td>University of Newcastle</td>\n",
       "      <td>NU</td>\n",
       "      <td>Architecture, Planning and Landscape</td>\n",
       "      <td>Alternative Practice: Co-producing Space</td>\n",
       "      <td>20</td>\n",
       "      <td>Mr Daniel Mallo</td>\n",
       "      <td>Alternative Practice: Co-producing Space explo...</td>\n",
       "      <td>Initial lecture introduces the module and will...</td>\n",
       "      <td>The co-production project addresses a real iss...</td>\n",
       "      <td>https://www.ncl.ac.uk/</td>\n",
       "      <td>http://www.ncl.ac.uk/mobility/experience-newca...</td>\n",
       "      <td>['altern', 'practic', 'co', 'produc', 'space',...</td>\n",
       "      <td>['the', 'co', 'product', 'project', 'address',...</td>\n",
       "      <td>['initi', 'lectur', 'introduc', 'modul', 'foll...</td>\n",
       "      <td>['Alternative', 'Practice', 'Co', 'producing',...</td>\n",
       "      <td>['The', 'co', 'production', 'project', 'addres...</td>\n",
       "      <td>['Initial', 'lecture', 'introduces', 'module',...</td>\n",
       "    </tr>\n",
       "    <tr>\n",
       "      <th>3</th>\n",
       "      <td>University of Newcastle</td>\n",
       "      <td>NU</td>\n",
       "      <td>Architecture, Planning and Landscape</td>\n",
       "      <td>Introduction to Architecture</td>\n",
       "      <td>20</td>\n",
       "      <td>Professor Katie Lloyd Thomas</td>\n",
       "      <td>To enable students to:\\n\\r\\nDevelop an awarene...</td>\n",
       "      <td>In semester 1 a mixture of scheduled and struc...</td>\n",
       "      <td>The poster – or pamphlet explaining a historic...</td>\n",
       "      <td>https://www.ncl.ac.uk/</td>\n",
       "      <td>http://www.ncl.ac.uk/mobility/experience-newca...</td>\n",
       "      <td>['to', 'enabl', 'student', 'develop', 'awar', ...</td>\n",
       "      <td>['the', 'poster', 'pamphlet', 'explain', 'hist...</td>\n",
       "      <td>['in', 'semest', '1', 'mixtur', 'schedul', 'st...</td>\n",
       "      <td>['To', 'enable', 'student', 'Develop', 'awaren...</td>\n",
       "      <td>['The', 'poster', 'pamphlet', 'explaining', 'h...</td>\n",
       "      <td>['In', 'semester', '1', 'mixture', 'scheduled'...</td>\n",
       "    </tr>\n",
       "    <tr>\n",
       "      <th>4</th>\n",
       "      <td>University of Newcastle</td>\n",
       "      <td>NU</td>\n",
       "      <td>Architecture, Planning and Landscape</td>\n",
       "      <td>Architectural Representation 2</td>\n",
       "      <td>10</td>\n",
       "      <td>Dr Carlos Calderon</td>\n",
       "      <td>The aims of the module are to enable students ...</td>\n",
       "      <td>The topics are explored through lectures, pres...</td>\n",
       "      <td>A structured approach to 2D CAD drawings, 3D c...</td>\n",
       "      <td>https://www.ncl.ac.uk/</td>\n",
       "      <td>http://www.ncl.ac.uk/mobility/experience-newca...</td>\n",
       "      <td>['the', 'aim', 'modul', 'enabl', 'student', 'p...</td>\n",
       "      <td>['a', 'structur', 'approach', '2d', 'cad', 'dr...</td>\n",
       "      <td>['the', 'topic', 'explor', 'lectur', 'present'...</td>\n",
       "      <td>['The', 'aim', 'module', 'enable', 'student', ...</td>\n",
       "      <td>['A', 'structured', 'approach', '2D', 'CAD', '...</td>\n",
       "      <td>['The', 'topic', 'explored', 'lecture', 'prese...</td>\n",
       "    </tr>\n",
       "    <tr>\n",
       "      <th>...</th>\n",
       "      <td>...</td>\n",
       "      <td>...</td>\n",
       "      <td>...</td>\n",
       "      <td>...</td>\n",
       "      <td>...</td>\n",
       "      <td>...</td>\n",
       "      <td>...</td>\n",
       "      <td>...</td>\n",
       "      <td>...</td>\n",
       "      <td>...</td>\n",
       "      <td>...</td>\n",
       "      <td>...</td>\n",
       "      <td>...</td>\n",
       "      <td>...</td>\n",
       "      <td>...</td>\n",
       "      <td>...</td>\n",
       "      <td>...</td>\n",
       "    </tr>\n",
       "    <tr>\n",
       "      <th>1318</th>\n",
       "      <td>University of Newcastle</td>\n",
       "      <td>NU</td>\n",
       "      <td>Natural and Environmental Sciences</td>\n",
       "      <td>Ecology of Marine Systems</td>\n",
       "      <td>20</td>\n",
       "      <td>Dr Jane Delany</td>\n",
       "      <td>To build on the fundamentals of the functionin...</td>\n",
       "      <td>Lectures and supporting materials are designed...</td>\n",
       "      <td>The two 1000-word (or equivalent) pieces of fo...</td>\n",
       "      <td>https://www.ncl.ac.uk/</td>\n",
       "      <td>http://www.ncl.ac.uk/mobility/experience-newca...</td>\n",
       "      <td>['to', 'build', 'fundament', 'function', 'key'...</td>\n",
       "      <td>['the', 'two', '1000', 'word', 'equival', 'pie...</td>\n",
       "      <td>['lectur', 'support', 'materi', 'design', 'giv...</td>\n",
       "      <td>['To', 'build', 'fundamental', 'functioning', ...</td>\n",
       "      <td>['The', 'two', '1000', 'word', 'equivalent', '...</td>\n",
       "      <td>['Lectures', 'supporting', 'material', 'design...</td>\n",
       "    </tr>\n",
       "    <tr>\n",
       "      <th>1319</th>\n",
       "      <td>University of Newcastle</td>\n",
       "      <td>NU</td>\n",
       "      <td>Natural and Environmental Sciences</td>\n",
       "      <td>Applied Marine Biology</td>\n",
       "      <td>20</td>\n",
       "      <td>Dr Gary Caldwell</td>\n",
       "      <td>This module aims to make students aware of a r...</td>\n",
       "      <td>The lectures are designed to provide students ...</td>\n",
       "      <td>The module offers the students the choice of o...</td>\n",
       "      <td>https://www.ncl.ac.uk/</td>\n",
       "      <td>http://www.ncl.ac.uk/mobility/experience-newca...</td>\n",
       "      <td>['thi', 'modul', 'aim', 'make', 'student', 'aw...</td>\n",
       "      <td>['the', 'modul', 'offer', 'student', 'choic', ...</td>\n",
       "      <td>['the', 'lectur', 'design', 'provid', 'student...</td>\n",
       "      <td>['This', 'module', 'aim', 'make', 'student', '...</td>\n",
       "      <td>['The', 'module', 'offer', 'student', 'choice'...</td>\n",
       "      <td>['The', 'lecture', 'designed', 'provide', 'stu...</td>\n",
       "    </tr>\n",
       "    <tr>\n",
       "      <th>1320</th>\n",
       "      <td>University of Newcastle</td>\n",
       "      <td>NU</td>\n",
       "      <td>Natural and Environmental Sciences</td>\n",
       "      <td>Research and Employability Skills</td>\n",
       "      <td>20</td>\n",
       "      <td>Dr Heather Sugden</td>\n",
       "      <td>To introduce and practice the development of h...</td>\n",
       "      <td>Lectures and practicals are designed to provid...</td>\n",
       "      <td>Students will be expected to undertake formati...</td>\n",
       "      <td>https://www.ncl.ac.uk/</td>\n",
       "      <td>http://www.ncl.ac.uk/mobility/experience-newca...</td>\n",
       "      <td>['to', 'introduc', 'practic', 'develop', 'hypo...</td>\n",
       "      <td>['student', 'expect', 'undertak', 'form', 'ass...</td>\n",
       "      <td>['lectur', 'practic', 'design', 'provid', 'tra...</td>\n",
       "      <td>['To', 'introduce', 'practice', 'development',...</td>\n",
       "      <td>['Students', 'expected', 'undertake', 'formati...</td>\n",
       "      <td>['Lectures', 'practicals', 'designed', 'provid...</td>\n",
       "    </tr>\n",
       "    <tr>\n",
       "      <th>1321</th>\n",
       "      <td>University of Newcastle</td>\n",
       "      <td>NU</td>\n",
       "      <td>Natural and Environmental Sciences</td>\n",
       "      <td>Marine Practical Skills II</td>\n",
       "      <td>20</td>\n",
       "      <td>Dr Guenther Uher</td>\n",
       "      <td>To build on the fundamental laboratory, boat w...</td>\n",
       "      <td>Lectures, laboratory practicals, fieldwork and...</td>\n",
       "      <td>The formative laboratory, field and research v...</td>\n",
       "      <td>https://www.ncl.ac.uk/</td>\n",
       "      <td>http://www.ncl.ac.uk/mobility/experience-newca...</td>\n",
       "      <td>['to', 'build', 'fundament', 'laboratori', 'bo...</td>\n",
       "      <td>['the', 'form', 'laboratori', 'field', 'resear...</td>\n",
       "      <td>['lectur', 'laboratori', 'practic', 'fieldwork...</td>\n",
       "      <td>['To', 'build', 'fundamental', 'laboratory', '...</td>\n",
       "      <td>['The', 'formative', 'laboratory', 'field', 'r...</td>\n",
       "      <td>['Lectures', 'laboratory', 'practicals', 'fiel...</td>\n",
       "    </tr>\n",
       "    <tr>\n",
       "      <th>1322</th>\n",
       "      <td>University of Newcastle</td>\n",
       "      <td>NU</td>\n",
       "      <td>Natural and Environmental Sciences</td>\n",
       "      <td>Deep-Sea and Polar Biology</td>\n",
       "      <td>20</td>\n",
       "      <td>Dr Benjamin Wigham</td>\n",
       "      <td>To appreciate the diverse range of deep-sea an...</td>\n",
       "      <td>Lectures and associated supplementary material...</td>\n",
       "      <td>The 2 x 1000 word (or equivalent) pieces of fo...</td>\n",
       "      <td>https://www.ncl.ac.uk/</td>\n",
       "      <td>http://www.ncl.ac.uk/mobility/experience-newca...</td>\n",
       "      <td>['to', 'appreci', 'divers', 'rang', 'deep', 's...</td>\n",
       "      <td>['the', '2', 'x', '1000', 'word', 'equival', '...</td>\n",
       "      <td>['lectur', 'associ', 'supplementari', 'materi'...</td>\n",
       "      <td>['To', 'appreciate', 'diverse', 'range', 'deep...</td>\n",
       "      <td>['The', '2', 'x', '1000', 'word', 'equivalent'...</td>\n",
       "      <td>['Lectures', 'associated', 'supplementary', 'm...</td>\n",
       "    </tr>\n",
       "  </tbody>\n",
       "</table>\n",
       "<p>1323 rows × 17 columns</p>\n",
       "</div>"
      ],
      "text/plain": [
       "                   University Abbreviation  \\\n",
       "0     University of Newcastle           NU   \n",
       "1     University of Newcastle           NU   \n",
       "2     University of Newcastle           NU   \n",
       "3     University of Newcastle           NU   \n",
       "4     University of Newcastle           NU   \n",
       "...                       ...          ...   \n",
       "1318  University of Newcastle           NU   \n",
       "1319  University of Newcastle           NU   \n",
       "1320  University of Newcastle           NU   \n",
       "1321  University of Newcastle           NU   \n",
       "1322  University of Newcastle           NU   \n",
       "\n",
       "                                Department  \\\n",
       "0     Architecture, Planning and Landscape   \n",
       "1     Architecture, Planning and Landscape   \n",
       "2     Architecture, Planning and Landscape   \n",
       "3     Architecture, Planning and Landscape   \n",
       "4     Architecture, Planning and Landscape   \n",
       "...                                    ...   \n",
       "1318    Natural and Environmental Sciences   \n",
       "1319    Natural and Environmental Sciences   \n",
       "1320    Natural and Environmental Sciences   \n",
       "1321    Natural and Environmental Sciences   \n",
       "1322    Natural and Environmental Sciences   \n",
       "\n",
       "                                  Course title  Unit  \\\n",
       "0                            Planning Contexts    20   \n",
       "1           Participation: Theories & Practice    20   \n",
       "2     Alternative Practice: Co-producing Space    20   \n",
       "3                 Introduction to Architecture    20   \n",
       "4               Architectural Representation 2    10   \n",
       "...                                        ...   ...   \n",
       "1318                 Ecology of Marine Systems    20   \n",
       "1319                    Applied Marine Biology    20   \n",
       "1320         Research and Employability Skills    20   \n",
       "1321                Marine Practical Skills II    20   \n",
       "1322                Deep-Sea and Polar Biology    20   \n",
       "\n",
       "                         Professor  \\\n",
       "0              Dr Alexander Wilson   \n",
       "1            Mrs Armelle Tardiveau   \n",
       "2                  Mr Daniel Mallo   \n",
       "3     Professor Katie Lloyd Thomas   \n",
       "4               Dr Carlos Calderon   \n",
       "...                            ...   \n",
       "1318                Dr Jane Delany   \n",
       "1319              Dr Gary Caldwell   \n",
       "1320             Dr Heather Sugden   \n",
       "1321              Dr Guenther Uher   \n",
       "1322            Dr Benjamin Wigham   \n",
       "\n",
       "                                              Objective  \\\n",
       "0     This module introduces the hybridity of the pl...   \n",
       "1     This module aims to get you to:\\r\\na.        D...   \n",
       "2     Alternative Practice: Co-producing Space explo...   \n",
       "3     To enable students to:\\n\\r\\nDevelop an awarene...   \n",
       "4     The aims of the module are to enable students ...   \n",
       "...                                                 ...   \n",
       "1318  To build on the fundamentals of the functionin...   \n",
       "1319  This module aims to make students aware of a r...   \n",
       "1320  To introduce and practice the development of h...   \n",
       "1321  To build on the fundamental laboratory, boat w...   \n",
       "1322  To appreciate the diverse range of deep-sea an...   \n",
       "\n",
       "                                            Description  \\\n",
       "0     Students will be introduced to key ideas throu...   \n",
       "1     Initial lectures contextualise the theory that...   \n",
       "2     Initial lecture introduces the module and will...   \n",
       "3     In semester 1 a mixture of scheduled and struc...   \n",
       "4     The topics are explored through lectures, pres...   \n",
       "...                                                 ...   \n",
       "1318  Lectures and supporting materials are designed...   \n",
       "1319  The lectures are designed to provide students ...   \n",
       "1320  Lectures and practicals are designed to provid...   \n",
       "1321  Lectures, laboratory practicals, fieldwork and...   \n",
       "1322  Lectures and associated supplementary material...   \n",
       "\n",
       "                                               Projects  \\\n",
       "0     The first assignment enables the students to r...   \n",
       "1     Assignment One\\r\\nGroup presentation showcasin...   \n",
       "2     The co-production project addresses a real iss...   \n",
       "3     The poster – or pamphlet explaining a historic...   \n",
       "4     A structured approach to 2D CAD drawings, 3D c...   \n",
       "...                                                 ...   \n",
       "1318  The two 1000-word (or equivalent) pieces of fo...   \n",
       "1319  The module offers the students the choice of o...   \n",
       "1320  Students will be expected to undertake formati...   \n",
       "1321  The formative laboratory, field and research v...   \n",
       "1322  The 2 x 1000 word (or equivalent) pieces of fo...   \n",
       "\n",
       "         University Homepage  \\\n",
       "0     https://www.ncl.ac.uk/   \n",
       "1     https://www.ncl.ac.uk/   \n",
       "2     https://www.ncl.ac.uk/   \n",
       "3     https://www.ncl.ac.uk/   \n",
       "4     https://www.ncl.ac.uk/   \n",
       "...                      ...   \n",
       "1318  https://www.ncl.ac.uk/   \n",
       "1319  https://www.ncl.ac.uk/   \n",
       "1320  https://www.ncl.ac.uk/   \n",
       "1321  https://www.ncl.ac.uk/   \n",
       "1322  https://www.ncl.ac.uk/   \n",
       "\n",
       "                                        Course Homepage  \\\n",
       "0     http://www.ncl.ac.uk/mobility/experience-newca...   \n",
       "1     http://www.ncl.ac.uk/mobility/experience-newca...   \n",
       "2     http://www.ncl.ac.uk/mobility/experience-newca...   \n",
       "3     http://www.ncl.ac.uk/mobility/experience-newca...   \n",
       "4     http://www.ncl.ac.uk/mobility/experience-newca...   \n",
       "...                                                 ...   \n",
       "1318  http://www.ncl.ac.uk/mobility/experience-newca...   \n",
       "1319  http://www.ncl.ac.uk/mobility/experience-newca...   \n",
       "1320  http://www.ncl.ac.uk/mobility/experience-newca...   \n",
       "1321  http://www.ncl.ac.uk/mobility/experience-newca...   \n",
       "1322  http://www.ncl.ac.uk/mobility/experience-newca...   \n",
       "\n",
       "                                      Objective stemmed  \\\n",
       "0     ['thi', 'modul', 'introduc', 'hybrid', 'plan',...   \n",
       "1     ['thi', 'modul', 'aim', 'get', 'develop', 'cri...   \n",
       "2     ['altern', 'practic', 'co', 'produc', 'space',...   \n",
       "3     ['to', 'enabl', 'student', 'develop', 'awar', ...   \n",
       "4     ['the', 'aim', 'modul', 'enabl', 'student', 'p...   \n",
       "...                                                 ...   \n",
       "1318  ['to', 'build', 'fundament', 'function', 'key'...   \n",
       "1319  ['thi', 'modul', 'aim', 'make', 'student', 'aw...   \n",
       "1320  ['to', 'introduc', 'practic', 'develop', 'hypo...   \n",
       "1321  ['to', 'build', 'fundament', 'laboratori', 'bo...   \n",
       "1322  ['to', 'appreci', 'divers', 'rang', 'deep', 's...   \n",
       "\n",
       "                                        Project stemmed  \\\n",
       "0     ['the', 'first', 'assign', 'enabl', 'student',...   \n",
       "1     ['assign', 'one', 'group', 'present', 'showcas...   \n",
       "2     ['the', 'co', 'product', 'project', 'address',...   \n",
       "3     ['the', 'poster', 'pamphlet', 'explain', 'hist...   \n",
       "4     ['a', 'structur', 'approach', '2d', 'cad', 'dr...   \n",
       "...                                                 ...   \n",
       "1318  ['the', 'two', '1000', 'word', 'equival', 'pie...   \n",
       "1319  ['the', 'modul', 'offer', 'student', 'choic', ...   \n",
       "1320  ['student', 'expect', 'undertak', 'form', 'ass...   \n",
       "1321  ['the', 'form', 'laboratori', 'field', 'resear...   \n",
       "1322  ['the', '2', 'x', '1000', 'word', 'equival', '...   \n",
       "\n",
       "                                    Description stemmed  \\\n",
       "0     ['student', 'introduc', 'key', 'idea', 'a', 'l...   \n",
       "1     ['initi', 'lectur', 'contextualis', 'theori', ...   \n",
       "2     ['initi', 'lectur', 'introduc', 'modul', 'foll...   \n",
       "3     ['in', 'semest', '1', 'mixtur', 'schedul', 'st...   \n",
       "4     ['the', 'topic', 'explor', 'lectur', 'present'...   \n",
       "...                                                 ...   \n",
       "1318  ['lectur', 'support', 'materi', 'design', 'giv...   \n",
       "1319  ['the', 'lectur', 'design', 'provid', 'student...   \n",
       "1320  ['lectur', 'practic', 'design', 'provid', 'tra...   \n",
       "1321  ['lectur', 'laboratori', 'practic', 'fieldwork...   \n",
       "1322  ['lectur', 'associ', 'supplementari', 'materi'...   \n",
       "\n",
       "                                   Objective lemmatized  \\\n",
       "0     ['This', 'module', 'introduces', 'hybridity', ...   \n",
       "1     ['This', 'module', 'aim', 'get', 'Develop', 'c...   \n",
       "2     ['Alternative', 'Practice', 'Co', 'producing',...   \n",
       "3     ['To', 'enable', 'student', 'Develop', 'awaren...   \n",
       "4     ['The', 'aim', 'module', 'enable', 'student', ...   \n",
       "...                                                 ...   \n",
       "1318  ['To', 'build', 'fundamental', 'functioning', ...   \n",
       "1319  ['This', 'module', 'aim', 'make', 'student', '...   \n",
       "1320  ['To', 'introduce', 'practice', 'development',...   \n",
       "1321  ['To', 'build', 'fundamental', 'laboratory', '...   \n",
       "1322  ['To', 'appreciate', 'diverse', 'range', 'deep...   \n",
       "\n",
       "                                     Project lemmatized  \\\n",
       "0     ['The', 'first', 'assignment', 'enables', 'stu...   \n",
       "1     ['Assignment', 'One', 'Group', 'presentation',...   \n",
       "2     ['The', 'co', 'production', 'project', 'addres...   \n",
       "3     ['The', 'poster', 'pamphlet', 'explaining', 'h...   \n",
       "4     ['A', 'structured', 'approach', '2D', 'CAD', '...   \n",
       "...                                                 ...   \n",
       "1318  ['The', 'two', '1000', 'word', 'equivalent', '...   \n",
       "1319  ['The', 'module', 'offer', 'student', 'choice'...   \n",
       "1320  ['Students', 'expected', 'undertake', 'formati...   \n",
       "1321  ['The', 'formative', 'laboratory', 'field', 'r...   \n",
       "1322  ['The', '2', 'x', '1000', 'word', 'equivalent'...   \n",
       "\n",
       "                                 Description lemmatized  \n",
       "0     ['Students', 'introduced', 'key', 'idea', 'a',...  \n",
       "1     ['Initial', 'lecture', 'contextualise', 'theor...  \n",
       "2     ['Initial', 'lecture', 'introduces', 'module',...  \n",
       "3     ['In', 'semester', '1', 'mixture', 'scheduled'...  \n",
       "4     ['The', 'topic', 'explored', 'lecture', 'prese...  \n",
       "...                                                 ...  \n",
       "1318  ['Lectures', 'supporting', 'material', 'design...  \n",
       "1319  ['The', 'lecture', 'designed', 'provide', 'stu...  \n",
       "1320  ['Lectures', 'practicals', 'designed', 'provid...  \n",
       "1321  ['Lectures', 'laboratory', 'practicals', 'fiel...  \n",
       "1322  ['Lectures', 'associated', 'supplementary', 'm...  \n",
       "\n",
       "[1323 rows x 17 columns]"
      ]
     },
     "execution_count": 7,
     "metadata": {},
     "output_type": "execute_result"
    }
   ],
   "source": [
    "df.drop(columns=['Unnamed: 0'])"
   ]
  },
  {
   "cell_type": "code",
   "execution_count": 9,
   "metadata": {},
   "outputs": [
    {
     "data": {
      "text/html": [
       "<div>\n",
       "<style scoped>\n",
       "    .dataframe tbody tr th:only-of-type {\n",
       "        vertical-align: middle;\n",
       "    }\n",
       "\n",
       "    .dataframe tbody tr th {\n",
       "        vertical-align: top;\n",
       "    }\n",
       "\n",
       "    .dataframe thead th {\n",
       "        text-align: right;\n",
       "    }\n",
       "</style>\n",
       "<table border=\"1\" class=\"dataframe\">\n",
       "  <thead>\n",
       "    <tr style=\"text-align: right;\">\n",
       "      <th></th>\n",
       "      <th>Unnamed: 0</th>\n",
       "      <th>University</th>\n",
       "      <th>Abbreviation</th>\n",
       "      <th>Department</th>\n",
       "      <th>Course title</th>\n",
       "      <th>Unit</th>\n",
       "      <th>Professor</th>\n",
       "      <th>Objective</th>\n",
       "      <th>Description</th>\n",
       "      <th>Projects</th>\n",
       "      <th>University Homepage</th>\n",
       "      <th>Course Homepage</th>\n",
       "      <th>Objective stemmed</th>\n",
       "      <th>Project stemmed</th>\n",
       "      <th>Description stemmed</th>\n",
       "      <th>Objective lemmatized</th>\n",
       "      <th>Project lemmatized</th>\n",
       "      <th>Description lemmatized</th>\n",
       "    </tr>\n",
       "  </thead>\n",
       "  <tbody>\n",
       "    <tr>\n",
       "      <th>0</th>\n",
       "      <td>0</td>\n",
       "      <td>University of Newcastle</td>\n",
       "      <td>NU</td>\n",
       "      <td>Architecture, Planning and Landscape</td>\n",
       "      <td>Planning Contexts</td>\n",
       "      <td>20</td>\n",
       "      <td>Dr Alexander Wilson</td>\n",
       "      <td>This module introduces the hybridity of the pl...</td>\n",
       "      <td>Students will be introduced to key ideas throu...</td>\n",
       "      <td>The first assignment enables the students to r...</td>\n",
       "      <td>https://www.ncl.ac.uk/</td>\n",
       "      <td>http://www.ncl.ac.uk/mobility/experience-newca...</td>\n",
       "      <td>['thi', 'modul', 'introduc', 'hybrid', 'plan',...</td>\n",
       "      <td>['the', 'first', 'assign', 'enabl', 'student',...</td>\n",
       "      <td>['student', 'introduc', 'key', 'idea', 'a', 'l...</td>\n",
       "      <td>['This', 'module', 'introduces', 'hybridity', ...</td>\n",
       "      <td>['The', 'first', 'assignment', 'enables', 'stu...</td>\n",
       "      <td>['Students', 'introduced', 'key', 'idea', 'a',...</td>\n",
       "    </tr>\n",
       "    <tr>\n",
       "      <th>1</th>\n",
       "      <td>1</td>\n",
       "      <td>University of Newcastle</td>\n",
       "      <td>NU</td>\n",
       "      <td>Architecture, Planning and Landscape</td>\n",
       "      <td>Participation: Theories &amp; Practice</td>\n",
       "      <td>20</td>\n",
       "      <td>Mrs Armelle Tardiveau</td>\n",
       "      <td>This module aims to get you to:\\r\\na.        D...</td>\n",
       "      <td>Initial lectures contextualise the theory that...</td>\n",
       "      <td>Assignment One\\r\\nGroup presentation showcasin...</td>\n",
       "      <td>https://www.ncl.ac.uk/</td>\n",
       "      <td>http://www.ncl.ac.uk/mobility/experience-newca...</td>\n",
       "      <td>['thi', 'modul', 'aim', 'get', 'develop', 'cri...</td>\n",
       "      <td>['assign', 'one', 'group', 'present', 'showcas...</td>\n",
       "      <td>['initi', 'lectur', 'contextualis', 'theori', ...</td>\n",
       "      <td>['This', 'module', 'aim', 'get', 'Develop', 'c...</td>\n",
       "      <td>['Assignment', 'One', 'Group', 'presentation',...</td>\n",
       "      <td>['Initial', 'lecture', 'contextualise', 'theor...</td>\n",
       "    </tr>\n",
       "  </tbody>\n",
       "</table>\n",
       "</div>"
      ],
      "text/plain": [
       "   Unnamed: 0               University Abbreviation  \\\n",
       "0           0  University of Newcastle           NU   \n",
       "1           1  University of Newcastle           NU   \n",
       "\n",
       "                             Department                        Course title  \\\n",
       "0  Architecture, Planning and Landscape                   Planning Contexts   \n",
       "1  Architecture, Planning and Landscape  Participation: Theories & Practice   \n",
       "\n",
       "   Unit              Professor  \\\n",
       "0    20    Dr Alexander Wilson   \n",
       "1    20  Mrs Armelle Tardiveau   \n",
       "\n",
       "                                           Objective  \\\n",
       "0  This module introduces the hybridity of the pl...   \n",
       "1  This module aims to get you to:\\r\\na.        D...   \n",
       "\n",
       "                                         Description  \\\n",
       "0  Students will be introduced to key ideas throu...   \n",
       "1  Initial lectures contextualise the theory that...   \n",
       "\n",
       "                                            Projects     University Homepage  \\\n",
       "0  The first assignment enables the students to r...  https://www.ncl.ac.uk/   \n",
       "1  Assignment One\\r\\nGroup presentation showcasin...  https://www.ncl.ac.uk/   \n",
       "\n",
       "                                     Course Homepage  \\\n",
       "0  http://www.ncl.ac.uk/mobility/experience-newca...   \n",
       "1  http://www.ncl.ac.uk/mobility/experience-newca...   \n",
       "\n",
       "                                   Objective stemmed  \\\n",
       "0  ['thi', 'modul', 'introduc', 'hybrid', 'plan',...   \n",
       "1  ['thi', 'modul', 'aim', 'get', 'develop', 'cri...   \n",
       "\n",
       "                                     Project stemmed  \\\n",
       "0  ['the', 'first', 'assign', 'enabl', 'student',...   \n",
       "1  ['assign', 'one', 'group', 'present', 'showcas...   \n",
       "\n",
       "                                 Description stemmed  \\\n",
       "0  ['student', 'introduc', 'key', 'idea', 'a', 'l...   \n",
       "1  ['initi', 'lectur', 'contextualis', 'theori', ...   \n",
       "\n",
       "                                Objective lemmatized  \\\n",
       "0  ['This', 'module', 'introduces', 'hybridity', ...   \n",
       "1  ['This', 'module', 'aim', 'get', 'Develop', 'c...   \n",
       "\n",
       "                                  Project lemmatized  \\\n",
       "0  ['The', 'first', 'assignment', 'enables', 'stu...   \n",
       "1  ['Assignment', 'One', 'Group', 'presentation',...   \n",
       "\n",
       "                              Description lemmatized  \n",
       "0  ['Students', 'introduced', 'key', 'idea', 'a',...  \n",
       "1  ['Initial', 'lecture', 'contextualise', 'theor...  "
      ]
     },
     "execution_count": 9,
     "metadata": {},
     "output_type": "execute_result"
    }
   ],
   "source": [
    "df.loc[0:1]"
   ]
  },
  {
   "cell_type": "markdown",
   "metadata": {},
   "source": [
    "## Preparing The preprocessed text\n",
    "The dataframe columns include strings while we want to have lists which consist of strings as their elements."
   ]
  },
  {
   "cell_type": "code",
   "execution_count": 10,
   "metadata": {},
   "outputs": [],
   "source": [
    "texts = []\n",
    "labels = []\n",
    "for i in range(df.shape[0]):\n",
    "    lst = []\n",
    "    obj_lst = df.loc[i,'Objective stemmed'].strip('][').split(', ')\n",
    "    for j in range(len(obj_lst)):\n",
    "        obj_lst[j] = obj_lst[j].replace('\\'','')\n",
    "    lst.extend(obj_lst)\n",
    "    prj_lst = df.loc[i,'Project stemmed'].strip('][').split(', ')\n",
    "    for k in range(len(prj_lst)):\n",
    "        prj_lst[k] = prj_lst[k].replace('\\'','')\n",
    "    lst.extend(prj_lst)\n",
    "    dscr_lst = df.loc[i,'Description stemmed'].strip('][').split(', ')\n",
    "    for w in range(len(dscr_lst)):\n",
    "        dscr_lst[w] = dscr_lst[w].replace('\\'','')\n",
    "    lst.extend(dscr_lst)\n",
    "    texts.append(lst)"
   ]
  },
  {
   "cell_type": "code",
   "execution_count": 11,
   "metadata": {},
   "outputs": [
    {
     "data": {
      "text/plain": [
       "1323"
      ]
     },
     "execution_count": 11,
     "metadata": {},
     "output_type": "execute_result"
    }
   ],
   "source": [
    "len(texts)"
   ]
  },
  {
   "cell_type": "markdown",
   "metadata": {},
   "source": [
    "The departments will be our labels and each label will be identified by a number in range(0,17)"
   ]
  },
  {
   "cell_type": "code",
   "execution_count": 12,
   "metadata": {},
   "outputs": [
    {
     "data": {
      "text/plain": [
       "1323"
      ]
     },
     "execution_count": 12,
     "metadata": {},
     "output_type": "execute_result"
    }
   ],
   "source": [
    "labels = df.Department.tolist()\n",
    "unique_labels = set(labels)\n",
    "unique_labels = list(unique_labels)\n",
    "for i in range(len(labels)):\n",
    "    labels[i] = unique_labels.index(labels[i])\n",
    "len(labels)"
   ]
  },
  {
   "cell_type": "code",
   "execution_count": 140,
   "metadata": {},
   "outputs": [
    {
     "name": "stdout",
     "output_type": "stream",
     "text": [
      "{0, 1, 2, 3, 4, 5, 6, 7, 8, 9, 10, 11, 12, 13, 14, 15, 16}\n",
      "17\n"
     ]
    }
   ],
   "source": [
    "print(set(labels))\n",
    "print(len(set(labels)))"
   ]
  },
  {
   "cell_type": "code",
   "execution_count": 13,
   "metadata": {},
   "outputs": [],
   "source": [
    "texts_lem = []\n",
    "for i in range(df.shape[0]):\n",
    "    lst = []\n",
    "    obj_lst_lem = df.loc[i,'Objective lemmatized'].strip('][').split(', ')\n",
    "    for j in range(len(obj_lst_lem)):\n",
    "        obj_lst_lem[j] = obj_lst_lem[j].replace('\\'','')\n",
    "    lst.extend(obj_lst_lem)\n",
    "    prj_lst_lem = df.loc[i,'Project lemmatized'].strip('][').split(', ')\n",
    "    for k in range(len(prj_lst_lem)):\n",
    "        prj_lst_lem[k] = prj_lst_lem[k].replace('\\'','')\n",
    "    lst.extend(prj_lst_lem)\n",
    "    dscr_lst_lem = df.loc[i,'Description lemmatized'].strip('][').split(', ')\n",
    "    for w in range(len(dscr_lst_lem)):\n",
    "        dscr_lst_lem[w] = dscr_lst_lem[w].replace('\\'','')\n",
    "    lst.extend(dscr_lst_lem)\n",
    "    texts_lem.append(lst)"
   ]
  },
  {
   "cell_type": "markdown",
   "metadata": {},
   "source": [
    "# Embedding\n",
    "Here we embed all the words using [SentenceTransformer](https://www.sbert.net/)."
   ]
  },
  {
   "cell_type": "markdown",
   "metadata": {},
   "source": [
    "## Creating the model"
   ]
  },
  {
   "cell_type": "code",
   "execution_count": 14,
   "metadata": {},
   "outputs": [
    {
     "name": "stdout",
     "output_type": "stream",
     "text": [
      "1323\n",
      "[[-0.14620808  0.10263798 -0.02808991 ...  0.02871472 -0.04697701\n",
      "  -0.060378  ]\n",
      " [-0.14620806  0.10263797 -0.02808992 ...  0.0287147  -0.04697701\n",
      "  -0.06037798]\n",
      " [-0.1307187  -0.00558036  0.03892567 ... -0.0155642   0.0153059\n",
      "   0.02113917]\n",
      " [-0.02459153  0.03640758 -0.05232867 ...  0.0660159   0.02469461\n",
      "   0.00353143]\n",
      " [-0.03059881  0.00795008 -0.03910096 ...  0.06986146 -0.03801024\n",
      "   0.1051393 ]]\n"
     ]
    }
   ],
   "source": [
    "model = SentenceTransformer('all-MiniLM-L6-v2')\n",
    "embeddings = model.encode(texts)\n",
    "embeddings.tolist()\n",
    "print(len(embeddings))\n",
    "print(embeddings[0:5])"
   ]
  },
  {
   "cell_type": "markdown",
   "metadata": {},
   "source": [
    "## Splitting train and test data\n",
    "Using [Holdout]([https://link](https://vitalflux.com/hold-out-method-for-training-machine-learning-model/)) strategy (70% train, 30% test)."
   ]
  },
  {
   "cell_type": "code",
   "execution_count": 138,
   "metadata": {},
   "outputs": [],
   "source": [
    "X_train, X_test, Y_train, Y_test = train_test_split(embeddings, labels, test_size=0.3, random_state=30)"
   ]
  },
  {
   "cell_type": "code",
   "execution_count": null,
   "metadata": {},
   "outputs": [
    {
     "name": "stdout",
     "output_type": "stream",
     "text": [
      "X_train: 926\n",
      "Y_train: 926\n",
      "X_test: 397\n",
      "Y_test: 397\n"
     ]
    }
   ],
   "source": [
    "print(\"X_train: \" + str(len(X_train)))\n",
    "print(\"Y_train: \" + str(len(Y_train)))\n",
    "print(\"X_test: \" + str(len(X_test)))\n",
    "print(\"Y_test: \" + str(len(Y_test)))"
   ]
  },
  {
   "cell_type": "markdown",
   "metadata": {},
   "source": [
    "## Defining required functions"
   ]
  },
  {
   "cell_type": "markdown",
   "metadata": {},
   "source": [
    "### Plot an n-dimensional data on scatter plot (n>2)"
   ]
  },
  {
   "cell_type": "code",
   "execution_count": null,
   "metadata": {},
   "outputs": [
    {
     "data": {
      "image/png": "[encoded data removed]",
      "text/plain": [
       "<Figure size 432x288 with 1 Axes>"
      ]
     },
     "metadata": {
      "needs_background": "light"
     },
     "output_type": "display_data"
    }
   ],
   "source": [
    "def plot(data,plot_color):\n",
    "    pca = sklearnPCA(n_components=2) #2-dimensional PCA\n",
    "    transformed = pd.DataFrame(pca.fit_transform(data))\n",
    "    plt.scatter(transformed[0], transformed[1], marker='x', color=plot_color)\n",
    "    plt.show()\n",
    "plot(X_train, 'gray')"
   ]
  },
  {
   "cell_type": "code",
   "execution_count": null,
   "metadata": {},
   "outputs": [],
   "source": [
    "colors_dict = {\n",
    "    0 : '#800000',\n",
    "    1 : '#9A6324',\n",
    "    2 : '#808000',\n",
    "    3 : '#469990',\n",
    "    4 : '#000075',\n",
    "    5 : '#e6194B',\n",
    "    6 : '#f58231',\n",
    "    7 : '#ffe119',\n",
    "    8 : '#bfef45',\n",
    "    9 : '#3cb44b',\n",
    "    10 : '#42d4f4',\n",
    "    11 : '#4363d8',\n",
    "    12 : '#911eb4',\n",
    "    13 : '#f032e6',\n",
    "    14 : '#fabed4',\n",
    "    15 : '#ffd8b1',\n",
    "    16 : '#fffac8',\n",
    "    -1 : '#030300',\n",
    "    17 : '#aaffc3',\n",
    "    18 : '#dcbeff',\n",
    "    19 : '#1f918a'\n",
    "}"
   ]
  },
  {
   "cell_type": "markdown",
   "metadata": {},
   "source": [
    "### Plot result labels from clustering methods"
   ]
  },
  {
   "cell_type": "code",
   "execution_count": null,
   "metadata": {},
   "outputs": [],
   "source": [
    "def plot_clusters(labels,title):\n",
    "    unique_labs = set(labels)\n",
    "    for lab in unique_labs:\n",
    "        ellist = []\n",
    "        for i in range(len(labels)):\n",
    "            if labels[i]==lab:\n",
    "                ellist.append(X_train[i])\n",
    "        if(len(ellist)>=2):        \n",
    "            pca = sklearnPCA(n_components=2) #2-dimensional PCA\n",
    "            transformed = pd.DataFrame(pca.fit_transform(ellist))\n",
    "            plt.scatter(transformed[0], transformed[1], marker='x', color=colors_dict[lab])\n",
    "    plt.title(title,loc='center')\n",
    "    plt.show()"
   ]
  },
  {
   "cell_type": "code",
   "execution_count": null,
   "metadata": {},
   "outputs": [
    {
     "data": {
      "image/png": "[encoded data removed]",
      "text/plain": [
       "<Figure size 432x288 with 1 Axes>"
      ]
     },
     "metadata": {
      "needs_background": "light"
     },
     "output_type": "display_data"
    }
   ],
   "source": [
    "plot_clusters(Y_train, 'Actual clusters')"
   ]
  },
  {
   "cell_type": "markdown",
   "metadata": {},
   "source": [
    "### [Purity]([https://link](https://towardsdatascience.com/evaluation-metrics-for-clustering-models-5dde821dd6cd#:~:text=Purity%20is%20quite%20simple%20to,number%20of%20total%20data%20points.&text=Each%20cluster%20is%20assigned%20with%20the%20most%20frequent%20class%20label.)) Score Calculator"
   ]
  },
  {
   "cell_type": "code",
   "execution_count": null,
   "metadata": {},
   "outputs": [],
   "source": [
    "def purity_score(y_true, y_pred):\n",
    "    contingency_matrix = metrics.cluster.contingency_matrix(y_true, y_pred)\n",
    "    # return purity\n",
    "    return np.sum(np.amax(contingency_matrix, axis=0)) / np.sum(contingency_matrix)"
   ]
  },
  {
   "cell_type": "markdown",
   "metadata": {},
   "source": [
    "# Clustering"
   ]
  },
  {
   "cell_type": "markdown",
   "metadata": {},
   "source": [
    "## K-means"
   ]
  },
  {
   "cell_type": "code",
   "execution_count": null,
   "metadata": {},
   "outputs": [],
   "source": [
    "kmeans = KMeans(n_clusters=17, random_state=0,init= 'k-means++', n_init=20, max_iter=500)\n",
    "X_new_kmeans = kmeans.fit_transform(X_train)"
   ]
  },
  {
   "cell_type": "code",
   "execution_count": null,
   "metadata": {},
   "outputs": [],
   "source": [
    "Y_pred_kmeans = kmeans.predict(X_test)"
   ]
  },
  {
   "cell_type": "code",
   "execution_count": null,
   "metadata": {},
   "outputs": [
    {
     "name": "stdout",
     "output_type": "stream",
     "text": [
      "kmeans purity:  0.33753148614609574\n"
     ]
    }
   ],
   "source": [
    "purity = purity_score(Y_pred_kmeans, Y_test)\n",
    "print('kmeans purity: ', purity)"
   ]
  },
  {
   "cell_type": "code",
   "execution_count": null,
   "metadata": {},
   "outputs": [
    {
     "data": {
      "image/png": "[encoded data removed]",
      "text/plain": [
       "<Figure size 432x288 with 1 Axes>"
      ]
     },
     "metadata": {
      "needs_background": "light"
     },
     "output_type": "display_data"
    }
   ],
   "source": [
    "plot_clusters(kmeans.labels_, 'Kmeans')"
   ]
  },
  {
   "cell_type": "markdown",
   "metadata": {},
   "source": [
    "## DBSCAN"
   ]
  },
  {
   "cell_type": "code",
   "execution_count": null,
   "metadata": {},
   "outputs": [
    {
     "data": {
      "text/plain": [
       "DBSCAN(eps=0.84, min_samples=3)"
      ]
     },
     "execution_count": 112,
     "metadata": {},
     "output_type": "execute_result"
    }
   ],
   "source": [
    "dbscan = DBSCAN(eps=0.84, min_samples=3)\n",
    "dbscan.fit(X_train)"
   ]
  },
  {
   "cell_type": "code",
   "execution_count": null,
   "metadata": {},
   "outputs": [
    {
     "data": {
      "text/plain": [
       "array([ 0,  1,  2,  3,  2,  4,  1,  2,  1,  2,  0, -1,  5,  4, -1,  6,  4,\n",
       "       -1,  1,  1, -1, -1,  7, -1,  3,  8,  3,  3,  0,  9,  8,  2, 10, -1,\n",
       "        0,  0, 11,  4,  3,  9,  0,  0,  1,  3,  2,  0,  4,  1,  2, -1, 12,\n",
       "        1,  0,  1,  1,  1,  1,  4,  4,  4,  0,  9,  9,  1, -1,  8,  3, -1,\n",
       "       -1,  1,  2, -1, 13,  1,  1, 10,  0,  0,  1, -1,  4, 14,  5, -1,  1,\n",
       "        1,  2,  4,  0, -1, -1, -1,  0,  3,  1, -1,  1,  1,  1, -1, 10,  1,\n",
       "       -1,  0,  8, -1, -1,  1,  0, -1, -1,  1,  0,  4,  4,  3,  1,  1,  0,\n",
       "        0, 13,  0,  0,  8,  2,  3,  1, -1,  1,  1,  3, -1,  2,  1,  1, -1,\n",
       "        1, -1,  1,  9, -1,  4,  0,  3, -1,  1,  8, -1,  0,  2,  9,  2,  1,\n",
       "        1, -1, -1,  1, 12, 11,  1,  9,  1,  3, 11,  9,  3,  1,  1,  1,  2,\n",
       "        1,  4, -1,  1,  1,  3,  1,  0,  1,  0,  1,  0,  8,  3,  0,  1,  0,\n",
       "        1,  3,  1,  3,  7, -1,  6,  2,  4,  1,  1,  1,  1,  0,  3,  1,  2,\n",
       "        2,  1, -1, -1,  1,  8,  1, -1, -1,  3,  0,  1,  1,  8,  1,  2,  3,\n",
       "        2,  0,  1, -1,  2,  2,  3, -1,  9,  1,  1, -1, -1,  0,  0,  0, -1,\n",
       "        2,  1,  8,  8, -1,  0,  3,  3,  0,  2,  1, -1, -1,  1,  0, -1,  3,\n",
       "        3,  1, 13,  1,  1,  1,  2, -1,  1, -1,  9,  4,  8,  8,  2,  0,  1,\n",
       "       -1,  1,  4,  1,  2,  1, 10,  0,  9, -1,  1,  8,  1,  2,  3,  1,  9,\n",
       "        2,  1,  2,  1,  7,  1,  1,  9,  0,  4,  3,  4, -1, -1,  0,  9,  1,\n",
       "        8, -1,  9,  4,  0,  3,  4,  1, 12,  1,  0,  3,  1,  2,  5,  0,  0,\n",
       "        9,  1,  1,  1, -1,  4,  8,  0,  5,  1,  1,  0, -1,  1,  8,  8,  0,\n",
       "        1,  0,  1,  3,  1,  1,  3,  9,  1,  9, -1,  8,  6, -1, -1, -1,  1,\n",
       "        0,  1, -1,  3,  9,  2,  1,  1,  1,  1,  1,  9,  1,  0,  3,  8,  8,\n",
       "        2,  0,  1,  9, 14,  2,  3,  3,  4,  1,  8, -1,  1,  1,  8, -1, -1,\n",
       "       -1,  9, -1,  6, -1, 14], dtype=int64)"
      ]
     },
     "execution_count": 115,
     "metadata": {},
     "output_type": "execute_result"
    }
   ],
   "source": [
    "dbscan.labels_"
   ]
  },
  {
   "cell_type": "code",
   "execution_count": null,
   "metadata": {},
   "outputs": [
    {
     "name": "stdout",
     "output_type": "stream",
     "text": [
      "DBSCAN purity:  0.3954659949622166\n"
     ]
    }
   ],
   "source": [
    "Y_pred_dbscan = dbscan.fit_predict(X_test)\n",
    "purity = purity_score(Y_pred_dbscan, Y_test)\n",
    "print('DBSCAN purity: ', purity)"
   ]
  },
  {
   "cell_type": "code",
   "execution_count": null,
   "metadata": {},
   "outputs": [
    {
     "name": "stdout",
     "output_type": "stream",
     "text": [
      "68\n"
     ]
    }
   ],
   "source": [
    "noises = 0\n",
    "for i in Y_pred_dbscan:\n",
    "    if i==-1:\n",
    "        noises += 1 \n",
    "print(noises)"
   ]
  },
  {
   "cell_type": "markdown",
   "metadata": {},
   "source": [
    "## Meanshift"
   ]
  },
  {
   "cell_type": "code",
   "execution_count": null,
   "metadata": {},
   "outputs": [
    {
     "data": {
      "text/plain": [
       "MeanShift(bandwidth=0.6, cluster_all=False)"
      ]
     },
     "execution_count": 75,
     "metadata": {},
     "output_type": "execute_result"
    }
   ],
   "source": [
    "meanshift = MeanShift(bandwidth=0.6 ,cluster_all=False)\n",
    "meanshift.fit(X_train)"
   ]
  },
  {
   "cell_type": "code",
   "execution_count": null,
   "metadata": {},
   "outputs": [],
   "source": [
    "Y_pred_meanshift = meanshift.predict(X_test)"
   ]
  },
  {
   "cell_type": "code",
   "execution_count": null,
   "metadata": {},
   "outputs": [
    {
     "data": {
      "text/plain": [
       "array([  0,   1,   8,   7,   2,   0,   4,   1,   4,   0,   4,   0,   1,\n",
       "         0,   4,   1,   2,   2,   0, 142,   4,   6,  36, 137,   0,  46,\n",
       "         2, 172,  37,   0, 143,   2,   0,   7,   1,   5,   2,  11,   0,\n",
       "         0,  11, 162,  72,   0,   0,   0,   0, 187,   1,  11,   4,   8,\n",
       "         3, 165,   5,   0,   0, 102,   3, 199, 106,  24, 161,   0,   5,\n",
       "         0,   0,   0,   5, 123,   3,   0,  30,   0,   2,   7,   7, 151,\n",
       "         0,  16,  22, 184,   0,   0,   3,   6,   1,   3, 175,   5,  54,\n",
       "        74,   4,  70,   1,   1,   4,   0,   1,  32, 194,  86,   5,   0,\n",
       "         0,  52,  76,   0,   0,   6,   5,   5,   3,  28,   0,   0,  25,\n",
       "         6,   3, 158,   0,   0,   0,   0,   0,   0,   3, 183,   2,   2,\n",
       "         4,   3,  10,   0,  96, 201,  30,   3,   0,  95,   3,   0,   5,\n",
       "         7,  54,   4,   0,   2,   6,   0,   4,   3,  41,  29,   5,   1,\n",
       "         4,   4,   0, 116,  19,   0,   0,   2,   0, 176,  92,   0,  17,\n",
       "         2,   3,   4,  28,   0,  23,   0, 122, 163,   0,   3,  88,   0,\n",
       "       131,   3,  39,   2,   0,  77,   0,   0,   4,   0,   7,   1,   2,\n",
       "        17,   1,  39,  65,   6,   0,   0,  75,   4,   4,   3,   6,   1,\n",
       "         3,   0,  66,  14, 119,  21,   1,   7,  18,   0,  17, 145,   0,\n",
       "         1,   0, 160,   2,  29,   0, 149,  50,   3,   8, 118,  98,   0,\n",
       "        62,   2,   0,   1,   1,   1, 202,  12,   0,   1,  82,  40,   3,\n",
       "       112,   0,   3,   2,   0,  12,   2, 155, 173,   5,   4,   0,  24,\n",
       "         7,   2,   3,   2,   8,   5, 139,   5,   4,   0,   1,   0, 182,\n",
       "       186,   7,   0, 191,  10,  10,   8,   8,  79, 198,   0,   9,  44,\n",
       "        71,   0,   8, 167,   1,   6,  55,  53,   5,   3,   3, 101,   3,\n",
       "         6,   4,   0,   1,   6,  90,   0,  30,  50,   5,   1,   1, 141,\n",
       "         3, 188,   1,  63,  35,   3,  19,   2,   4,   1, 190,   0,   0,\n",
       "         1,  38,   3,   0,  33,   6,   4,  13,   3,   7,   1,  27,  43,\n",
       "         1, 115,   2,  16,   2,   0,   1,   6,   0,  10,   4,   0,   4,\n",
       "         7,   2,  27,   3,   3,   0,   1,  52,   5,  45,  31,   0,   1,\n",
       "         2,   0,   5,   6,   0,   0, 128, 117,   1,  12,   0,   0,  15,\n",
       "         4,   3,  17,   0,   2,   0,   0,   2,   0,  32,   4, 133,   1,\n",
       "        87,   1,   3,   2,   0,   6,   4, 179,  49,   7,   6, 174,  83,\n",
       "         3,   5,   4,   1,  24,   0,   7, 127,   0,   4,   3,  10, 177,\n",
       "        13,   0,  99, 104, 134, 185,   5,   5,   0,   4,   0,   2,  20,\n",
       "       152,  18,   3,   0,   1,   3,  78,   0,   0, 146,  12,   7,   0,\n",
       "         0,   7,  14, 144, 168, 154,   1,  14,  19,   0, 124,   0,   6,\n",
       "        44,  21,  89,  16,   2, 108,   2,   7,   3, 140,   5,   3,   0,\n",
       "        27,   4,  55, 105,   0,   9,   2,   5,  80, 129,  37, 114,  38,\n",
       "         0,  25,   1,   6,   3, 200,  23,   3, 130,   3,   8, 171,   3,\n",
       "         2,   4,   4,   2,   6,   0,   0,   0,  91,   2,   0,  10,   0,\n",
       "         0,   9,   1,   5,   1,   0, 164,   1,  29,   5,   0,   4,   2,\n",
       "         2,   6,   0,   3,   1,  19,  73,  58,   2,   3,  47,   3,   4,\n",
       "         1, 109,   0,   2, 120,   1,   4,   0,  13,   7,   3,   7,   0,\n",
       "       126,   3,   1, 159,   1,   0, 121, 170, 189,  34,  21,   8,   2,\n",
       "         4, 157,   2,   5,   5,   0,  20,   0,   1,   7,   3,   1,   1,\n",
       "         0,   0,  40,   2, 150, 148,  20,   2,   5,   7,   0,   4,   4,\n",
       "         6,   9,   5,   0,   0,   0,   0,   3, 100,  69,  33,   2,   2,\n",
       "         2,   0,   3, 197,  53,   0, 110, 136,  13,   2,   7,   2, 153,\n",
       "        64,   6,   0,  57, 138,   4,   0,   6,   5,   9,  12,   0,   7,\n",
       "         2,   3,   5,   0,   2,   5,   4,   0,  11,   3,   2,  10,   2,\n",
       "         3,   3,   6,   9,   2,   5,   1,   0,   4,   6,   0,   0,   0,\n",
       "         3,  13,   2,   7,   6,   2,   0,  12,   2,  28,  26, 196,   4,\n",
       "         1,   1,   4, 166,   7,  51,   3,   0,   3, 132,   1, 103,   3,\n",
       "       111,   6,  15,   5,   0,   0,   0,   8,   8,   6,  13, 135,  34,\n",
       "         2,   0,  16,  61,   1,  81,   0,   3,  18,   5,   0,   2,   0,\n",
       "         1,  15,   2,   6,   9,  11,   6,  42,   0,   0,   5,   3,   1,\n",
       "         1,   0,   4,  10,   1,   0,  94,   5,   0,   3,  22,   0, 193,\n",
       "         2,   2,  14,   3,   6,   1,   0,  15,   0,   1,   2,  49,  11,\n",
       "         2,   4,  67,  85, 147,   0,   5,   2,   4,   0,   0,  93,  22,\n",
       "         0,  24,   0,   1, 178,  12,   0,   2,  11,   1,   6,   1,   8,\n",
       "         6,   2,  20,  14,   7,   0,   6,   0,   0,   0, 180,   1,   3,\n",
       "         0,   0,   2,  25,   0,   3,  41,   5,   2,   6,   1,   1,   3,\n",
       "         9,  16,  48,   6,   3,   2,   0,   7,  17,   3,  68,  36,  59,\n",
       "         3,   0,   5,   0,   4,   0,  18,  18,  19,  31,   3,   0,  22,\n",
       "         6,  31,  48,  13,   2,  43,   4,   0,   2,   2,   0,   0,   3,\n",
       "       181,   0,  14,   5,   0,  26,   1, 192,   6,  10,   0,   1,   1,\n",
       "       195,  35,  56,   0,   0,  60,  23,   0, 107,   6,   1,   1,   6,\n",
       "         4,   4,   2,   8,   5,   0,  97,   1,   0,  84,   0,   9,   0,\n",
       "         1,   1,   2,  10,   2,   2, 113,   0, 169,  47,   3,   2,   0,\n",
       "         3,   6,   0,   6,  45,   1,   1,   9, 125,   4,   7,   0,  15,\n",
       "         0,   1,   0,   1,  20,   0,   0,   0,  46,   0,   0,  26,  23,\n",
       "         0,   5,  42,   5,   6,   6, 203,   5,  21,   1,   5,  51,   9,\n",
       "       156,   0,  56])"
      ]
     },
     "execution_count": 79,
     "metadata": {},
     "output_type": "execute_result"
    }
   ],
   "source": [
    "meanshift.labels_"
   ]
  },
  {
   "cell_type": "code",
   "execution_count": null,
   "metadata": {},
   "outputs": [
    {
     "name": "stdout",
     "output_type": "stream",
     "text": [
      "Meanshift purity:  0.30730478589420657\n"
     ]
    }
   ],
   "source": [
    "purity = purity_score(Y_pred_meanshift, Y_test)\n",
    "print('Meanshift purity: ', purity)"
   ]
  },
  {
   "cell_type": "markdown",
   "metadata": {},
   "source": [
    "## Hierarchical methods"
   ]
  },
  {
   "cell_type": "markdown",
   "metadata": {},
   "source": [
    "### Dendrogram analysis"
   ]
  },
  {
   "cell_type": "code",
   "execution_count": null,
   "metadata": {},
   "outputs": [
    {
     "data": {
      "image/png": "[encoded data removed]",
      "text/plain": [
       "<Figure size 720x504 with 1 Axes>"
      ]
     },
     "metadata": {
      "needs_background": "light"
     },
     "output_type": "display_data"
    }
   ],
   "source": [
    "X_train_list = X_train.tolist()\n",
    "X = random.sample(X_train_list, 10)\n",
    "\n",
    "linked = linkage(X, 'complete')\n",
    "\n",
    "labelList = [X_train_list.index(x) for x in X]\n",
    "\n",
    "plt.figure(figsize=(10, 7))\n",
    "dendrogram(linked,\n",
    "            orientation='top',\n",
    "            labels=labelList,\n",
    "            distance_sort='descending',\n",
    "            show_leaf_counts=True)\n",
    "plt.show()"
   ]
  },
  {
   "cell_type": "markdown",
   "metadata": {},
   "source": [
    "### AGNES"
   ]
  },
  {
   "cell_type": "code",
   "execution_count": null,
   "metadata": {},
   "outputs": [
    {
     "data": {
      "text/plain": [
       "AgglomerativeClustering(affinity='manhattan', compute_full_tree=True,\n",
       "                        linkage='average', n_clusters=17)"
      ]
     },
     "execution_count": 94,
     "metadata": {},
     "output_type": "execute_result"
    }
   ],
   "source": [
    "agnes = AgglomerativeClustering(n_clusters=17,compute_full_tree=True , affinity='manhattan', linkage='average')\n",
    "agnes.fit(X_train)"
   ]
  },
  {
   "cell_type": "code",
   "execution_count": null,
   "metadata": {},
   "outputs": [
    {
     "data": {
      "image/png": "[encoded data removed]",
      "text/plain": [
       "<Figure size 432x288 with 1 Axes>"
      ]
     },
     "metadata": {
      "needs_background": "light"
     },
     "output_type": "display_data"
    }
   ],
   "source": [
    "plot_clusters(agnes.labels_, 'AGNES')"
   ]
  },
  {
   "cell_type": "code",
   "execution_count": null,
   "metadata": {},
   "outputs": [
    {
     "name": "stdout",
     "output_type": "stream",
     "text": [
      "AGNES purity:  0.6246851385390428\n"
     ]
    }
   ],
   "source": [
    "Y_pred_agnes = agnes.fit_predict(X_test)\n",
    "purity = purity_score(Y_pred_agnes, Y_test)\n",
    "print('AGNES purity: ', purity)"
   ]
  },
  {
   "cell_type": "markdown",
   "metadata": {},
   "source": [
    "# Conclusion"
   ]
  },
  {
   "cell_type": "code",
   "execution_count": null,
   "metadata": {},
   "outputs": [
    {
     "data": {
      "text/html": [
       "<div>\n",
       "<style scoped>\n",
       "    .dataframe tbody tr th:only-of-type {\n",
       "        vertical-align: middle;\n",
       "    }\n",
       "\n",
       "    .dataframe tbody tr th {\n",
       "        vertical-align: top;\n",
       "    }\n",
       "\n",
       "    .dataframe thead th {\n",
       "        text-align: right;\n",
       "    }\n",
       "</style>\n",
       "<table border=\"1\" class=\"dataframe\">\n",
       "  <thead>\n",
       "    <tr style=\"text-align: right;\">\n",
       "      <th></th>\n",
       "      <th>AGNES</th>\n",
       "      <th>DBSCAN</th>\n",
       "      <th>Kmeans</th>\n",
       "      <th>Meanshift</th>\n",
       "    </tr>\n",
       "  </thead>\n",
       "  <tbody>\n",
       "    <tr>\n",
       "      <th>Purity score</th>\n",
       "      <td>0.624685</td>\n",
       "      <td>0.395466</td>\n",
       "      <td>0.337531</td>\n",
       "      <td>0.307305</td>\n",
       "    </tr>\n",
       "  </tbody>\n",
       "</table>\n",
       "</div>"
      ],
      "text/plain": [
       "                 AGNES    DBSCAN    Kmeans  Meanshift\n",
       "Purity score  0.624685  0.395466  0.337531   0.307305"
      ]
     },
     "execution_count": 118,
     "metadata": {},
     "output_type": "execute_result"
    }
   ],
   "source": [
    "scores_df = pd.DataFrame([[purity_score(Y_pred_agnes, Y_test),purity_score(Y_pred_dbscan, Y_test),\n",
    "    purity_score(Y_pred_kmeans, Y_test),purity_score(Y_pred_meanshift, Y_test)]], columns=['AGNES','DBSCAN','Kmeans','Meanshift']\n",
    "    , index=['Purity score'])\n",
    "scores_df"
   ]
  }
 ],
 "metadata": {
  "interpreter": {
   "hash": "412d80259355696df0b26136ec94def9daab167233586ca2f2a233d370a2166c"
  },
  "kernelspec": {
   "display_name": "Python 3.9.6 ('dm')",
   "language": "python",
   "name": "python3"
  },
  "language_info": {
   "codemirror_mode": {
    "name": "ipython",
    "version": 3
   },
   "file_extension": ".py",
   "mimetype": "text/x-python",
   "name": "python",
   "nbconvert_exporter": "python",
   "pygments_lexer": "ipython3",
   "version": "3.9.6"
  },
  "orig_nbformat": 4
 },
 "nbformat": 4,
 "nbformat_minor": 2
}
